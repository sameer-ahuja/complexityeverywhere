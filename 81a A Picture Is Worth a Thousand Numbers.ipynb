{
 "cells": [
  {
   "cell_type": "code",
   "execution_count": 1,
   "metadata": {},
   "outputs": [],
   "source": [
    "import numpy as np"
   ]
  },
  {
   "cell_type": "code",
   "execution_count": 2,
   "metadata": {},
   "outputs": [],
   "source": [
    "from pathlib import Path"
   ]
  },
  {
   "cell_type": "code",
   "execution_count": 3,
   "metadata": {},
   "outputs": [],
   "source": [
    "from numpy import genfromtxt"
   ]
  },
  {
   "cell_type": "code",
   "execution_count": 40,
   "metadata": {},
   "outputs": [],
   "source": [
    "def GAF(file):\n",
    "    X = genfromtxt(file, delimiter=',')\n",
    "    counter = 0\n",
    "    for column in X:\n",
    "        counter +=1\n",
    "        X = column\n",
    "        X = np.reshape(X,(1,-1))\n",
    "        import matplotlib.pyplot as plt\n",
    "        from mpl_toolkits.axes_grid1 import ImageGrid\n",
    "        from pyts.image import GramianAngularField\n",
    "\n",
    "# Parameters\n",
    "# X, _, _, _ = load_gunpoint(return_X_y=True)\n",
    "\n",
    "# Transform the time series into Gramian Angular Fields\n",
    "        gasf = GramianAngularField(image_size=21, method='summation')\n",
    "        X_gasf = gasf.fit_transform(X)\n",
    "        gadf = GramianAngularField(image_size=21, method='difference')\n",
    "        X_gadf = gadf.fit_transform(X)\n",
    "\n",
    "        # Show the images for the first time series\n",
    "        fig = plt.figure(figsize=(8, 4))\n",
    "        grid = ImageGrid(fig, 111,\n",
    "                         nrows_ncols=(1,1),\n",
    "                         axes_pad=0.15,\n",
    "                         share_all=True,\n",
    "        #                  cbar_location=\"right\",\n",
    "                         cbar_mode=\"none\",\n",
    "        #                  cbar_size=\"7%\",\n",
    "        #                  cbar_pad=0.3,\n",
    "                         )\n",
    "        images = [X_gasf[0], X_gadf[0]]\n",
    "        titles = ['Summation', 'Difference']\n",
    "        for image, ax in zip(images, grid):\n",
    "            im = ax.imshow(image, cmap='rainbow', origin='lower')\n",
    "#             ax.set_title(title, fontdict={'fontsize': 12})\n",
    "        ax.cax.colorbar(im)\n",
    "        ax.cax.toggle_label(True)\n",
    "#         plt.suptitle('Gramian Angular Fields', y=0.98, fontsize=16)\n",
    "        ax.set_yticklabels([])\n",
    "        ax.set_xticklabels([])\n",
    "        ax.set_yticks([])\n",
    "        ax.set_xticks([])\n",
    "\n",
    "        plt.show()\n",
    "\n",
    "#         plt.savefig(\"%s.png\" %counter)"
   ]
  },
  {
   "cell_type": "code",
   "execution_count": null,
   "metadata": {},
   "outputs": [],
   "source": [
    "GAF('GAFW.csv')"
   ]
  }
 ],
 "metadata": {
  "kernelspec": {
   "display_name": "Python 3",
   "language": "python",
   "name": "python3"
  },
  "language_info": {
   "codemirror_mode": {
    "name": "ipython",
    "version": 3
   },
   "file_extension": ".py",
   "mimetype": "text/x-python",
   "name": "python",
   "nbconvert_exporter": "python",
   "pygments_lexer": "ipython3",
   "version": "3.8.5"
  }
 },
 "nbformat": 4,
 "nbformat_minor": 2
}
